{
 "cells": [
  {
   "cell_type": "markdown",
   "metadata": {},
   "source": [
    "# MAT5014 - Economic research - Suicide rates\n",
    "*authors: BRAYE Valérien, CHHAY Ly An, ROLLAND Obed* <br>\n",
    "*language: Python 3* <br>\n",
    "*dataset: [Suicide Rates Overview 1985 to 2016](https://www.kaggle.com/datasets/russellyates88/suicide-rates-overview-1985-to-2016)*"
   ]
  },
  {
   "cell_type": "markdown",
   "metadata": {},
   "source": [
    "## Imports and preliminary code"
   ]
  },
  {
   "cell_type": "code",
   "execution_count": 1,
   "metadata": {},
   "outputs": [],
   "source": [
    "import pandas as pd\n",
    "import matplotlib.pyplot as plt\n",
    "import seaborn as sns"
   ]
  },
  {
   "cell_type": "markdown",
   "metadata": {},
   "source": [
    "The following cell defines usefull global variables to configure this notebook.\n",
    "- `DATAPATH`: change this to the path to the directory where the datasets are stored\n",
    "- `SAVEFIGS`: weither to save the figures to disk or not. Saved figures will not have titles to be included in the report\n",
    "- `FIGPATH`: path where the figures will be saved if `SAVEFIGS` is set to `True`."
   ]
  },
  {
   "cell_type": "code",
   "execution_count": 2,
   "metadata": {},
   "outputs": [],
   "source": [
    "DATAPATH = \"./data/\"\n",
    "SAVEFIGS = False\n",
    "FIGPATH = \"./report/figures/\""
   ]
  },
  {
   "cell_type": "code",
   "execution_count": 3,
   "metadata": {},
   "outputs": [],
   "source": [
    "\"\"\"\n",
    "Publication ready pyplot theme\n",
    "Source: https://github.com/matplotlib/matplotlib/issues/19028\n",
    "\"\"\"\n",
    "\n",
    "plot_settings = {'ytick.labelsize': 16,\n",
    "                 'xtick.labelsize': 16,\n",
    "                 'font.size': 22,\n",
    "                 'figure.figsize': (10, 5),\n",
    "                 'axes.titlesize': 22,\n",
    "                 'axes.labelsize': 18,\n",
    "                 'lines.linewidth': 2,\n",
    "                 'lines.markersize': 3,\n",
    "                 'legend.fontsize': 11,\n",
    "                 'mathtext.fontset': 'stix',\n",
    "                 'font.family': 'STIXGeneral'}\n",
    "plt.style.use(plot_settings)"
   ]
  },
  {
   "cell_type": "code",
   "execution_count": 4,
   "metadata": {},
   "outputs": [],
   "source": [
    "def print_list(l: list, title: str = None, bullet: str = \"•\", max_items: int = None, randomize: bool = False, indent_level: int = 0) -> None:\n",
    "    \"\"\"\n",
    "    Prints a list nicely. Handles sublists. Tupples will be displayed as items: ('e1', 'e2', ...).\n",
    "    Parameters:\n",
    "        • l: list to print\n",
    "        • title: title of the list\n",
    "        • bullet: bullet point to use\n",
    "        • max_items: maximum number of items to print\n",
    "        • randomize: pick random elements or not\n",
    "        • indent_level: indentation level for sub-lists\n",
    "    \"\"\"\n",
    "    if title:\n",
    "        print(f\"{indent_level * '  '}{title}:\")\n",
    "        indent_level += 1\n",
    "    final_list_to_print = l.copy()\n",
    "    if randomize:\n",
    "        random.shuffle(final_list_to_print)\n",
    "    if max_items:\n",
    "        final_list_to_print = l[:max_items]\n",
    "    for item in final_list_to_print:\n",
    "        if isinstance(item, list):\n",
    "            print_list(item, bullet=bullet, indent_level=indent_level+1)\n",
    "        elif isinstance(item, tuple):\n",
    "            print(f\"{indent_level * '  '}{bullet} {str(item)}\")\n",
    "        else:\n",
    "            print(f\"{indent_level * '  '}{bullet} {item}\")\n",
    "    if len(final_list_to_print) != len(l):\n",
    "        print(f\"{indent_level * '  '}...\")"
   ]
  },
  {
   "cell_type": "markdown",
   "metadata": {},
   "source": [
    "## Exploratory Data Analysis"
   ]
  },
  {
   "cell_type": "code",
   "execution_count": 5,
   "metadata": {},
   "outputs": [],
   "source": [
    "suicides = pd.read_csv(DATAPATH + \"master.csv\")"
   ]
  },
  {
   "cell_type": "code",
   "execution_count": 6,
   "metadata": {},
   "outputs": [
    {
     "name": "stdout",
     "output_type": "stream",
     "text": [
      "Dataset dimensions: 27820 × 12\n"
     ]
    }
   ],
   "source": [
    "print(f\"Dataset dimensions: {suicides.shape[0]} × {suicides.shape[1]}\")"
   ]
  },
  {
   "cell_type": "code",
   "execution_count": 7,
   "metadata": {},
   "outputs": [
    {
     "name": "stdout",
     "output_type": "stream",
     "text": [
      "Variables in dataset:\n",
      "  • country\n",
      "  • year\n",
      "  • sex\n",
      "  • age\n",
      "  • suicides_no\n",
      "  • population\n",
      "  • suicides/100k pop\n",
      "  • country-year\n",
      "  • HDI for year\n",
      "  •  gdp_for_year ($) \n",
      "  • gdp_per_capita ($)\n",
      "  • generation\n"
     ]
    }
   ],
   "source": [
    "print_list(suicides.columns, \"Variables in dataset\")"
   ]
  }
 ],
 "metadata": {
  "kernelspec": {
   "display_name": "base",
   "language": "python",
   "name": "python3"
  },
  "language_info": {
   "codemirror_mode": {
    "name": "ipython",
    "version": 3
   },
   "file_extension": ".py",
   "mimetype": "text/x-python",
   "name": "python",
   "nbconvert_exporter": "python",
   "pygments_lexer": "ipython3",
   "version": "3.11.6"
  }
 },
 "nbformat": 4,
 "nbformat_minor": 2
}
