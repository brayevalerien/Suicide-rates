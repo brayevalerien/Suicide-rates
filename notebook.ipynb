{
 "cells": [
  {
   "cell_type": "markdown",
   "metadata": {},
   "source": [
    "# MAT5014 - Economic research - Suicide rates\n",
    "*authors: BRAYE Valérien, CHHAY Ly An, ROLLAND Obed* <br>\n",
    "*language: Python 3* <br>\n",
    "*dataset: [Suicide Rates Overview 1985 to 2016](https://www.kaggle.com/datasets/russellyates88/suicide-rates-overview-1985-to-2016)*"
   ]
  },
  {
   "cell_type": "markdown",
   "metadata": {},
   "source": [
    "## Imports and preliminary code\n",
    "The following cell defines usefull global variables to configure this notebook.\n",
    "- `DATAPATH`: change this to the path to the directory where the datasets are stored\n",
    "- `SAVEFIGS`: weither to save the figures to disk or not. Saved figures will not have titles to be included in the report\n",
    "- `FIGPATH`: path where the figures will be saved if `SAVEFIGS` is set to `True`"
   ]
  },
  {
   "cell_type": "code",
   "execution_count": 1,
   "metadata": {},
   "outputs": [],
   "source": [
    "DATAPATH = \"./data/\"\n",
    "SAVEFIGS = False\n",
    "FIGPATH = \"./report/figures/\""
   ]
  },
  {
   "cell_type": "code",
   "execution_count": 2,
   "metadata": {},
   "outputs": [],
   "source": [
    "import numpy as np\n",
    "import pandas as pd\n",
    "import matplotlib.pyplot as plt\n",
    "import seaborn as sns\n",
    "\n",
    "import warnings\n",
    "warnings.filterwarnings(\"ignore\")"
   ]
  },
  {
   "cell_type": "markdown",
   "metadata": {},
   "source": [
    "The following cell defines a publication-ready `pyplot` theme, taken from [github](https://github.com/matplotlib/matplotlib/issues/19028)."
   ]
  },
  {
   "cell_type": "code",
   "execution_count": null,
   "metadata": {},
   "outputs": [],
   "source": [
    "plot_settings = {'ytick.labelsize': 16,\n",
    "                 'xtick.labelsize': 16,\n",
    "                 'font.size': 22,\n",
    "                 'figure.figsize': (10, 5),\n",
    "                 'axes.titlesize': 22,\n",
    "                 'axes.labelsize': 18,\n",
    "                 'lines.linewidth': 2,\n",
    "                 'lines.markersize': 3,\n",
    "                 'legend.fontsize': 11,\n",
    "                 'mathtext.fontset': 'stix',\n",
    "                 'font.family': 'STIXGeneral'}\n",
    "plt.style.use(plot_settings)"
   ]
  },
  {
   "cell_type": "markdown",
   "metadata": {},
   "source": [
    "The cell below defines usefull functions."
   ]
  },
  {
   "cell_type": "code",
   "execution_count": null,
   "metadata": {},
   "outputs": [],
   "source": [
    "def print_list(l: list, title: str = None, bullet: str = \"•\", max_items: int = None, randomize: bool = False, indent_level: int = 0) -> None:\n",
    "    \"\"\"\n",
    "    Prints a list nicely. Handles sublists. Tupples will be displayed as items: ('e1', 'e2', ...).\n",
    "    Parameters:\n",
    "        • l: list to print\n",
    "        • title: title of the list\n",
    "        • bullet: bullet point to use\n",
    "        • max_items: maximum number of items to print\n",
    "        • randomize: pick random elements or not\n",
    "        • indent_level: indentation level for sub-lists\n",
    "    \"\"\"\n",
    "    if title:\n",
    "        print(f\"{indent_level * '  '}{title}:\")\n",
    "        indent_level += 1\n",
    "    final_list_to_print = l.copy()\n",
    "    if randomize:\n",
    "        random.shuffle(final_list_to_print)\n",
    "    if max_items:\n",
    "        final_list_to_print = l[:max_items]\n",
    "    for item in final_list_to_print:\n",
    "        if isinstance(item, list):\n",
    "            print_list(item, bullet=bullet, indent_level=indent_level+1)\n",
    "        elif isinstance(item, tuple):\n",
    "            print(f\"{indent_level * '  '}{bullet} {str(item)}\")\n",
    "        else:\n",
    "            print(f\"{indent_level * '  '}{bullet} {item}\")\n",
    "    if len(final_list_to_print) != len(l):\n",
    "        print(f\"{indent_level * '  '}...\")"
   ]
  },
  {
   "cell_type": "markdown",
   "metadata": {},
   "source": [
    "## Exploratory Data Analysis\n",
    "### Presentation of the dataset"
   ]
  },
  {
   "cell_type": "code",
   "execution_count": null,
   "metadata": {},
   "outputs": [],
   "source": [
    "suicides = pd.read_csv(DATAPATH + \"master.csv\")"
   ]
  },
  {
   "cell_type": "code",
   "execution_count": null,
   "metadata": {},
   "outputs": [],
   "source": [
    "print(f\"Dataset dimensions: {suicides.shape[0]} × {suicides.shape[1]}\")"
   ]
  },
  {
   "cell_type": "code",
   "execution_count": null,
   "metadata": {},
   "outputs": [],
   "source": [
    "suicides.sample(5, random_state=42)"
   ]
  },
  {
   "cell_type": "code",
   "execution_count": null,
   "metadata": {},
   "outputs": [],
   "source": [
    "suicides.sex.describe()"
   ]
  },
  {
   "cell_type": "code",
   "execution_count": null,
   "metadata": {},
   "outputs": [],
   "source": [
    "print_list(suicides.columns, \"Variables in dataset\")"
   ]
  },
  {
   "cell_type": "markdown",
   "metadata": {},
   "source": [
    "The dataset we will be using for this project has almost 30000 records of suicides that happened from 1985 to 2016, in 101 different countries all around the world. For each record 12 variables are given:\n",
    "- `country`: the country of origin of the person\n",
    "- `year`: year of the suicide\n",
    "- `sex`: sex of the person (`\"male\"` or `\"female\"`)\n",
    "- `age`: how old the person was, given as an interval\n",
    "- `suicide_no`: number of suicides in the same country, sex, year and age group as the person \n",
    "- `population`: population size of the country, sex and age category of the person\n",
    "- `suicides/100k pop`: number of suicides per 100000 people in the country\n",
    "- `country-year`: concatenation of the country and the year\n",
    "- `HDI for year`: human developement index of the year\n",
    "- ` gdp_for_year ($)`: gross domestic product of the year, in dollars\n",
    "- `gdp_per_capita ($)`: GDP of the year, per person, in dollar\n",
    "- `generation`: generation of the person"
   ]
  },
  {
   "cell_type": "markdown",
   "metadata": {},
   "source": [
    "### Data preparation\n",
    "In this section, we try to exclude outliers, remove `NaN`s and more generaly make the data easier to work with. We will also add the continent based on the country. <br>\n",
    "First of all, some of the variable names used in the original dataset do not respect snake case, so we will rename them for ease of use."
   ]
  },
  {
   "cell_type": "code",
   "execution_count": null,
   "metadata": {},
   "outputs": [],
   "source": [
    "columns_rename_map = {\n",
    "    \"suicides/100k pop\": \"suicides_rate\",\n",
    "    \"country-year\": \"country_year\",\n",
    "    \"HDI for year\": \"hdi\",\n",
    "    \" gdp_for_year ($) \": \"gdp\",\n",
    "    \"gdp_per_capita ($)\": \"gdp_per_capita\",\n",
    "}\n",
    "\n",
    "suicides.rename(columns_rename_map, axis=1, inplace=True);"
   ]
  },
  {
   "cell_type": "markdown",
   "metadata": {},
   "source": [
    "We can also remove useless columns. Since they are redundant with the rest of the data, we will remove variables `country_year` and `generation`."
   ]
  },
  {
   "cell_type": "code",
   "execution_count": null,
   "metadata": {},
   "outputs": [],
   "source": [
    "suicides.drop([\"country_year\", \"generation\"], axis=1, inplace=True)"
   ]
  },
  {
   "cell_type": "markdown",
   "metadata": {},
   "source": [
    "To make it easier to manipulate the `age` variable, we will transform it according to the table below:\n",
    "| Original `age` value | New `age` value |\n",
    "| -------------------- | --------------- |\n",
    "| `\"5-14 years\"`       | `0`             |\n",
    "| `\"15-24 years\"`      | `1`             |\n",
    "| `\"25-34 years\"`      | `2`             |\n",
    "| `\"35-54 years\"`      | `3`             |\n",
    "| `\"55-74 years\"`      | `4`             |\n",
    "| `\"75+ years\"`        | `5`             |\n",
    "\n",
    "Unfortunatly, not all age categories are of the same size: the last two are 20 years long while the first ones are 10 years long. It is necessary to keep this information in mind later in the study. To compensate for this issue, we will add two variables `age_min` and `age_max`, respectivly the minimum and maximum possible for the considered person. <br>\n",
    "We will still keep the old `age` variable but rename it to `age_category`."
   ]
  },
  {
   "cell_type": "code",
   "execution_count": null,
   "metadata": {},
   "outputs": [],
   "source": [
    "suicides[\"age_category\"] = suicides.age\n",
    "\n",
    "age_map = {\n",
    "    \"5-14 years\": 0,\n",
    "    \"15-24 years\": 1,\n",
    "    \"25-34 years\": 2,\n",
    "    \"35-54 years\": 3,\n",
    "    \"55-74 years\": 4,\n",
    "    \"75+ years\": 5\n",
    "}\n",
    "\n",
    "suicides.age = suicides.age.map(age_map)\n",
    "\n",
    "suicides[\"age_min\"] = suicides.age.map({\n",
    "    0: 5,\n",
    "    1: 15,\n",
    "    2: 25,\n",
    "    3: 35,\n",
    "    4: 55,\n",
    "    5: 75\n",
    "})\n",
    "suicides[\"age_max\"] = suicides.age.map({\n",
    "    0: 14,\n",
    "    1: 24,\n",
    "    2: 34,\n",
    "    3: 54,\n",
    "    4: 74,\n",
    "    5: 94 # chosen to make the category 20 years long\n",
    "})"
   ]
  },
  {
   "cell_type": "markdown",
   "metadata": {},
   "source": [
    "Note that `gdp` is an object and not a float64 or an int. This is because it uses the american notation, separating 3 digit groups by commas. For instance, `2156624900` is represented by `2,156,624,900`. We will convert them to int in order to be able to manipulate them. "
   ]
  },
  {
   "cell_type": "code",
   "execution_count": null,
   "metadata": {},
   "outputs": [],
   "source": [
    "suicides.gdp = suicides.gdp.apply(lambda x: int(x.replace(\",\", \"\")))"
   ]
  },
  {
   "cell_type": "markdown",
   "metadata": {},
   "source": [
    "Next, we need to check for missing data."
   ]
  },
  {
   "cell_type": "code",
   "execution_count": null,
   "metadata": {},
   "outputs": [],
   "source": [
    "for variable in suicides.columns:\n",
    "    try:\n",
    "        print(f\"{suicides[variable].value_counts(normalize=True, dropna=False)[np.nan]*100:.1f}% of values are missing for variable {variable}.\")\n",
    "    except KeyError:\n",
    "        print(f\"No nan value for variable {variable}.\")"
   ]
  },
  {
   "cell_type": "markdown",
   "metadata": {},
   "source": [
    "There is no missing data except for the `hdi` variable, where more that two thirds of the values are missing. We could either:\n",
    "- drop the observations with a missing value, which is not acceptable given the proportion of missing values.\n",
    "- drop the `hdi` variable, but we suspect that it might be higly correlated to the number of suicides so it would be beneficial to keep it.\n",
    "- fill as much as possible the missing values. This is the option we will take.\n",
    "\n",
    "For each missing value, we will use the average `hdi` corresponding to the country. If there is not such record, we simply drop the observation."
   ]
  },
  {
   "cell_type": "code",
   "execution_count": null,
   "metadata": {},
   "outputs": [],
   "source": [
    "def find_hdi(df: pd.DataFrame, country: str) -> int:\n",
    "    \"\"\"\n",
    "    Return the average HDI of the country.\n",
    "    If no record is found, returns -1.\n",
    "\n",
    "    Args:\n",
    "        df (pd.DataFrame): data\n",
    "        country (str)\n",
    "        year (int)\n",
    "\n",
    "    Returns:\n",
    "        int: HDI of country for year\n",
    "    \"\"\"\n",
    "    records = df[df.country == country].dropna()\n",
    "    if not records.empty:\n",
    "        return records.hdi.mean()\n",
    "    return -1\n",
    "\n",
    "def fill_hdi_values(df: pd.DataFrame) -> int:\n",
    "    \"\"\"\n",
    "    Fills missing values of the \"hdi\" variable of the provided dataframe.\n",
    "    Missing values are filled using the average of existing values from the same country.\n",
    "\n",
    "    Args:\n",
    "        df (pd.DataFrame): data.\n",
    "\n",
    "    Returns:\n",
    "        int: number of missing values that were replaced.\n",
    "    \"\"\"\n",
    "    memo = {} # stores, for each encountered country pair, the associated HDI\n",
    "    replaced = 0\n",
    "    for i, row in df.iterrows():\n",
    "        if np.isnan(row[\"hdi\"]):\n",
    "            approx_hdi = -1\n",
    "            if row[\"country\"] in memo:\n",
    "                approx_hdi = memo[row[\"country\"]]\n",
    "            else:\n",
    "                approx_hdi = find_hdi(df, row[\"country\"])\n",
    "                memo[row[\"country\"]] = approx_hdi\n",
    "            if approx_hdi != -1:\n",
    "                df.hdi[i] = approx_hdi\n",
    "                replaced += 1\n",
    "    return replaced\n",
    "\n",
    "missing_hdi = suicides.hdi.value_counts(dropna=False)[np.nan]\n",
    "filled_hdi = fill_hdi_values(suicides)\n",
    "print(f\"Filled {filled_hdi} ({filled_hdi/missing_hdi*100:.1f}%) of missing HDI values. About {suicides.hdi.value_counts(normalize=True, dropna=False)[np.nan]*100:.1f}% values are still missing.\")\n",
    "suicides.dropna(inplace=True)\n",
    "print(\"All missing values have been droped.\")"
   ]
  },
  {
   "cell_type": "markdown",
   "metadata": {},
   "source": [
    "With this technique, we were able to go from 69% of missing values to about only 5%, that we droped."
   ]
  },
  {
   "cell_type": "markdown",
   "metadata": {},
   "source": [
    "### Data visualization\n",
    "Now that data preparation is done, we can explore it.\n",
    "First of all, it would be great knowing the represented countries and how many years of records are provided for each of them."
   ]
  },
  {
   "cell_type": "code",
   "execution_count": null,
   "metadata": {},
   "outputs": [],
   "source": [
    "years_count = suicides.groupby(\"country\").year.nunique().sort_values(ascending=True)\n",
    "plt.figure(figsize=(10, 22))\n",
    "sns.barplot(years_count, orient=\"h\")\n",
    "plt.xlabel(\"Number of years recorded\")\n",
    "plt.title(\"Number of years recorded by country\");"
   ]
  },
  {
   "cell_type": "markdown",
   "metadata": {},
   "source": [
    "Countries with the most records have about 30 years of data in the dataframe (so the whole time span of the study), but some other countries have only a few years recorded. However, most countries have at least 20 years recorded. <br>\n",
    "Let us now study the average suicide rate year."
   ]
  },
  {
   "cell_type": "code",
   "execution_count": null,
   "metadata": {},
   "outputs": [],
   "source": [
    "sns.lineplot(suicides.groupby(\"year\").suicides_rate.mean())\n",
    "plt.xlabel(\"year\")\n",
    "plt.ylabel(\"suicides per 100k people\")\n",
    "plt.title(\"Suicide rate evolution\");"
   ]
  },
  {
   "cell_type": "markdown",
   "metadata": {},
   "source": [
    "Suicide rate went from about 12 suicides per 100k people in 1985 to a peak in 1995 at more than 15. This might seem strange at first glance but could actually be explained by the high level of mental distress an economical instability of the time ([see the events of 1995](https://en.wikipedia.org/wiki/1995#Events)). <br>\n",
    "We can also study the number of suicides depending on some variables about the individuals such as sex or age category."
   ]
  },
  {
   "cell_type": "code",
   "execution_count": null,
   "metadata": {},
   "outputs": [],
   "source": [
    "age_count = suicides.groupby(\"age\").suicides_rate.mean()\n",
    "sns.barplot(age_count)\n",
    "plt.xticks(range(len(age_map)), labels=list(age_map.keys()))\n",
    "plt.xlabel(\"Age category\")\n",
    "plt.ylabel(\"Suicide rate\")\n",
    "plt.title(\"Suicides between 1985 and 2016\");"
   ]
  },
  {
   "cell_type": "markdown",
   "metadata": {},
   "source": [
    "Most suicides occur when people are between 35 and 54 years, which could be explained by their work and the fact that they start getting older."
   ]
  },
  {
   "cell_type": "code",
   "execution_count": null,
   "metadata": {},
   "outputs": [],
   "source": [
    "sex_count = suicides.groupby(\"sex\").suicides_no.sum()\n",
    "plt.pie(sex_count.values, labels=sex_count.index, autopct=\"%1.1f%%\")\n",
    "plt.title(\"Suicides between 1985 and 2016\");"
   ]
  },
  {
   "cell_type": "markdown",
   "metadata": {},
   "source": [
    "Most suicides are commited by men. In fact, most of the attempts are done by females, but they more rarely lead to death. Men tend to chose more violent and \"effective\" ways of commiting suicide and are less prone to seeking help ([source](https://en.wikipedia.org/wiki/Gender_differences_in_suicide)). <br>\n",
    "Let us now focus on GPD and HDI."
   ]
  },
  {
   "cell_type": "code",
   "execution_count": null,
   "metadata": {},
   "outputs": [],
   "source": [
    "suicides.gdp_per_capita"
   ]
  },
  {
   "cell_type": "code",
   "execution_count": null,
   "metadata": {},
   "outputs": [],
   "source": [
    "sns.histplot(suicides.gdp_per_capita, kde=True, binwidth=500, ec=None)\n",
    "plt.title(\"GPD per capita distribution\")\n",
    "plt.xlabel(\"GDP per capita ($)\")\n",
    "plt.ylabel(\"count\");"
   ]
  },
  {
   "cell_type": "markdown",
   "metadata": {},
   "source": [
    "Whithout surprise, most countries have a low GPD per capita and only few of them have a high one."
   ]
  },
  {
   "cell_type": "code",
   "execution_count": null,
   "metadata": {},
   "outputs": [],
   "source": [
    "plt.figure(figsize=(3, 5))\n",
    "sns.boxplot(suicides.hdi)\n",
    "plt.title(\"HDI distribution\")\n",
    "plt.ylabel(\"HDI\")"
   ]
  },
  {
   "cell_type": "markdown",
   "metadata": {},
   "source": [
    "As we can seen, the HDI is contained between 0.5 and 1 and the average HDI is about 0.8. Let us try to corellate the GDP and the HDI to the suicide rate."
   ]
  },
  {
   "cell_type": "code",
   "execution_count": null,
   "metadata": {},
   "outputs": [],
   "source": [
    "hdi_resolution = 50\n",
    "suicides[\"hdi_category\"] = suicides.hdi.map(lambda x: round(x*hdi_resolution)/hdi_resolution)\n",
    "sns.lineplot(suicides.groupby(\"hdi_category\").suicides_rate.mean())\n",
    "plt.title(\"Suicides depending on HDI\")\n",
    "plt.xlabel(\"HDI\")\n",
    "plt.ylabel(\"Suicide rate\");"
   ]
  },
  {
   "cell_type": "markdown",
   "metadata": {},
   "source": [
    "Apparently, there is no linear relationship between the HDI and the suicide rate, as we could have expected. In fact, it even seems that the higher the HDI is, the higher the suicide rate tends to be, except a very high suicide rate for a HDI at about 0.6."
   ]
  },
  {
   "cell_type": "code",
   "execution_count": null,
   "metadata": {},
   "outputs": [],
   "source": [
    "gdp_per_capita_resolution = .001\n",
    "suicides[\"gdp_per_capita_category\"] = suicides.gdp_per_capita.map(lambda x: round(x*gdp_per_capita_resolution)/gdp_per_capita_resolution)\n",
    "sns.lineplot(suicides.groupby(\"gdp_per_capita_category\").suicides_rate.mean())\n",
    "plt.title(\"Suicides depending on GDP per capita\")\n",
    "plt.xlabel(\"GDP per capita ($)\")\n",
    "plt.ylabel(\"Suicide rate\");"
   ]
  },
  {
   "cell_type": "markdown",
   "metadata": {},
   "source": [
    "There is no clear relationship between the GDP per capita and the average suicide rate."
   ]
  },
  {
   "cell_type": "code",
   "execution_count": null,
   "metadata": {},
   "outputs": [],
   "source": [
    "gdp_resolution = 0.000000000005\n",
    "suicides[\"gdp_category\"] = suicides.gdp.map(lambda x: round(x*gdp_resolution)/gdp_resolution)\n",
    "sns.lineplot(suicides.groupby(\"gdp_category\").suicides_rate.mean())\n",
    "plt.title(\"Suicides depending on GDP per capita\")\n",
    "plt.xlabel(\"GDP ($)\")\n",
    "plt.ylabel(\"Suicide rate\");"
   ]
  },
  {
   "cell_type": "markdown",
   "metadata": {},
   "source": [
    "On the other hand, GDP seems to have a direct link with the suicide rate in the country. Very low GDP generaly lead to quite low suicide rate. Medium GDP countries record the highest suicide rates. And the suicide rates of high GDP countries are relatively average and stable. "
   ]
  }
 ],
 "metadata": {
  "kernelspec": {
   "display_name": "base",
   "language": "python",
   "name": "python3"
  },
  "language_info": {
   "codemirror_mode": {
    "name": "ipython",
    "version": 3
   },
   "file_extension": ".py",
   "mimetype": "text/x-python",
   "name": "python",
   "nbconvert_exporter": "python",
   "pygments_lexer": "ipython3",
   "version": "3.11.6"
  }
 },
 "nbformat": 4,
 "nbformat_minor": 2
}
